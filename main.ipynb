{
 "cells": [
  {
   "cell_type": "code",
   "execution_count": null,
   "metadata": {},
   "outputs": [],
   "source": [
    "# from google.colab import drive\n",
    "# drive.mount(\"/content/drive\")\n",
    "# %cd /content/drive/MyDrive/ytvideo-comment-recording\n"
   ]
  },
  {
   "cell_type": "code",
   "execution_count": null,
   "metadata": {},
   "outputs": [],
   "source": [
    "# 出力先のデータベース (SQLite3)\n",
    "save_db_path = \"out.db\"\n",
    "\n",
    "# 対象のYouTube動画のURL\n",
    "videos = [\n",
    "    \"https://www.youtube.com/watch?v=ieMKBctJ2aM\"\n",
    "]\n"
   ]
  },
  {
   "cell_type": "code",
   "execution_count": null,
   "metadata": {},
   "outputs": [],
   "source": [
    "%pip install yt-dlp==2023.11.16\n",
    "%pip install openai-whisper==20231117\n"
   ]
  },
  {
   "cell_type": "code",
   "execution_count": null,
   "metadata": {},
   "outputs": [],
   "source": [
    "import whisper\n",
    "import torch\n",
    "from yt_dlp import YoutubeDL\n",
    "import sqlite3\n",
    "import os\n",
    "import tempfile\n",
    "from typing import Optional\n"
   ]
  },
  {
   "cell_type": "code",
   "execution_count": null,
   "metadata": {},
   "outputs": [],
   "source": [
    "# GPUが使える場合はGPUを使う\n",
    "if not torch.cuda.is_available():\n",
    "    print(\"Warning: CUDA is not available. The model will run on CPU.\")\n"
   ]
  },
  {
   "cell_type": "code",
   "execution_count": null,
   "metadata": {},
   "outputs": [],
   "source": [
    "print(\">> Loading speech to text model...\")\n",
    "# 大規模モデルを読み込む\n",
    "whisper_model = whisper.load_model(\"large\")\n",
    "print(\"<< Loaded speech to text model\\n\")\n"
   ]
  },
  {
   "cell_type": "code",
   "execution_count": null,
   "metadata": {},
   "outputs": [],
   "source": [
    "class Database:\n",
    "    def __init__(self, db_path: str):\n",
    "        self.conn = sqlite3.connect(db_path)\n",
    "        self.__create_tables()\n",
    "\n",
    "    def insert_yt_video_no_commit(\n",
    "        self,\n",
    "        yt_id: str,\n",
    "        title: str\n",
    "    ):\n",
    "        cursor = self.conn.cursor()\n",
    "        cursor.execute(\n",
    "            \"INSERT INTO yt_videos (yt_id, title) VALUES (?, ?)\",\n",
    "            (yt_id, title)\n",
    "        )\n",
    "\n",
    "    def insert_talk_no_commit(\n",
    "        self,\n",
    "        yt_id: str,\n",
    "        start_sec: int,\n",
    "        end_sec: int,\n",
    "        comment: str\n",
    "    ):\n",
    "        cursor = self.conn.cursor()\n",
    "        cursor.execute(\n",
    "            \"INSERT INTO talks (yt_id, start_sec, end_sec, comment) VALUES (?, ?, ?, ?)\",\n",
    "            (yt_id, start_sec, end_sec, comment)\n",
    "        )\n",
    "\n",
    "    def commit(self):\n",
    "        self.conn.commit()\n",
    "\n",
    "    def close(self):\n",
    "        self.conn.close()\n",
    "\n",
    "    def __create_tables(self):\n",
    "        cursor = self.conn.cursor()\n",
    "\n",
    "        # yt_videos テーブルが存在しなければ作成\n",
    "        cursor.execute(\"\"\"\n",
    "            CREATE TABLE IF NOT EXISTS yt_videos (\n",
    "                yt_id VARCHAR(32) NOT NULL PRIMARY KEY,\n",
    "                title VARCHAR(255) NOT NULL\n",
    "            )\n",
    "        \"\"\")\n",
    "\n",
    "        # talks テーブルが存在しなければ作成\n",
    "        cursor.execute(\"\"\"\n",
    "            CREATE TABLE IF NOT EXISTS talks (\n",
    "                id INTEGER PRIMARY KEY AUTOINCREMENT,\n",
    "                yt_id VARCHAR(32) NOT NULL,\n",
    "                start_sec INTEGER NOT NULL,\n",
    "                end_sec INTEGER NOT NULL,\n",
    "                comment TEXT NOT NULL,\n",
    "                FOREIGN KEY (yt_id) REFERENCES yt_videos(yt_id)\n",
    "            )\n",
    "        \"\"\")\n",
    "\n",
    "        self.conn.commit()\n"
   ]
  },
  {
   "cell_type": "code",
   "execution_count": null,
   "metadata": {},
   "outputs": [],
   "source": [
    "def download_video_from_youtube(\n",
    "    video_url: str,\n",
    "    save_dir: str\n",
    ") -> Optional[tuple[str, str, str]]:\n",
    "\n",
    "    options = {\n",
    "        \"format\": \"bestaudio/best\",\n",
    "        \"outtmpl\": os.path.join(save_dir, \"%(id)s.%(ext)s\")\n",
    "    }\n",
    "\n",
    "    with YoutubeDL(options) as ydl:\n",
    "        info_dict = ydl.extract_info(video_url, download=False)\n",
    "        video_id = info_dict.get(\"id\", None)\n",
    "        video_ext = info_dict.get(\"ext\", None)\n",
    "        video_title = info_dict.get(\"title\", None)\n",
    "\n",
    "        if not video_id:\n",
    "            return None\n",
    "\n",
    "        ydl.download([video_url])\n",
    "        return (\n",
    "            os.path.join(save_dir, f\"{video_id}.{video_ext}\"),\n",
    "            video_id,\n",
    "            video_title\n",
    "        )\n"
   ]
  },
  {
   "cell_type": "code",
   "execution_count": null,
   "metadata": {},
   "outputs": [],
   "source": [
    "# データベースインスタンスを作り、データベースに接続する\n",
    "db = Database(save_db_path)\n"
   ]
  },
  {
   "cell_type": "code",
   "execution_count": null,
   "metadata": {},
   "outputs": [],
   "source": [
    "for video in videos:\n",
    "    with tempfile.TemporaryDirectory() as temp_dir:\n",
    "        print(f\">> Downloading video: {video}\")\n",
    "\n",
    "        # YouTubeから動画をダウンロードする\n",
    "        video_path, video_id, video_title = download_video_from_youtube(video, temp_dir)\n",
    "        if not video_path:\n",
    "            continue\n",
    "\n",
    "        print(f\"   Downloaded video: {video_title} ({video_path})\")\n",
    "\n",
    "        # 動画から文字起こしをする\n",
    "        result = whisper_model.transcribe(\n",
    "            video_path,\n",
    "            verbose=False,\n",
    "            fp16=False,\n",
    "            language=\"ja\"\n",
    "        )\n",
    "\n",
    "        # 動画情報を格納\n",
    "        db.insert_yt_video_no_commit(\n",
    "            video_id,\n",
    "            video_title\n",
    "        )\n",
    "\n",
    "        # 文字起こし結果を格納\n",
    "        for segment in result[\"segments\"]:\n",
    "            db.insert_talk_no_commit(\n",
    "                video_id,\n",
    "                int(segment[\"start\"]),\n",
    "                int(segment[\"end\"]),\n",
    "                segment[\"text\"]\n",
    "            )\n",
    "\n",
    "        # データベースに反映\n",
    "        db.commit()\n",
    "\n",
    "        print(\"<< Transcribed video\\n\")\n"
   ]
  },
  {
   "cell_type": "code",
   "execution_count": null,
   "metadata": {},
   "outputs": [],
   "source": [
    "# データベースと切断する\n",
    "db.close()\n"
   ]
  }
 ],
 "metadata": {
  "language_info": {
   "name": "python"
  }
 },
 "nbformat": 4,
 "nbformat_minor": 2
}
